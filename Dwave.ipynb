{
 "cells": [
  {
   "cell_type": "markdown",
   "id": "46991687-db40-4e8e-a12a-2f0159ee0d2b",
   "metadata": {
    "tags": []
   },
   "source": [
    "## Install and Configure Ocean\n",
    "\n",
    "We start by installing Ocean tool kit. Using your commandline, e.g bash, Anaconda, ..., excute\n",
    "\n",
    "$ <b>pip install dwave-ocean-sdk</b>\n",
    "\n",
    "Then we have to configure the tool kit so that it has access to DWAVE solvers. First retrieve the API token provided on the left panel of Leap dashboard (https://cloud.dwavesys.com/). Now create a config file using\n",
    "\n",
    "$ <b>dwave config</b>\n",
    "```\n",
    "Using the simplified configuration flow.\n",
    "Try 'dwave config create --full' for more options.\n",
    "\n",
    "Creating new configuration file: /path/to/home/.config/dwave/dwave.conf\n",
    "Profile [defaults]: ↵\n",
    "Updating existing profile: ↵\n",
    "Authentication token [skip]: ABC-1234567890abcdef1234567890abcdef ↵\n",
    "Configuration saved.\n",
    "```\n",
    "You can verify your configuration with\n",
    "\n",
    "$ <b>dwave ping --client qpu</b>\n",
    "\n",
    "example output:\n",
    "```\n",
    "Using endpoint: https://cloud.dwavesys.com/sapi\n",
    "Using solver: DW_2000Q_6\n",
    "Submitted problem ID: 34f773f7-77dc-7fa5-a7d5-7e397d90fc4a\n",
    "\n",
    "Wall clock time:\n",
    " * Solver definition fetch: 1888.499 ms\n",
    " * Problem submit and results fetch: 1038.042 ms\n",
    " * Total: 2926.541 ms\n",
    "\n",
    "QPU timing:\n",
    " * post_processing_overhead_time = 307.0 us\n",
    " * qpu_access_overhead_time = 1185.96 us\n",
    " * qpu_access_time = 10995.04 us\n",
    " * qpu_anneal_time_per_sample = 20.0 us\n",
    " * qpu_delay_time_per_sample = 20.54 us\n",
    " * qpu_programming_time = 10756.1 us\n",
    " * qpu_readout_time_per_sample = 198.4 us\n",
    " * qpu_sampling_time = 238.94 us\n",
    " * total_post_processing_time = 307.0 us\n",
    "```"
   ]
  },
  {
   "cell_type": "markdown",
   "id": "46666194-392c-4a75-9c83-90eee7bc6f5a",
   "metadata": {},
   "source": [
    "## Increase your time with Developer Plan on DWave\n",
    "\n"
   ]
  },
  {
   "cell_type": "code",
   "execution_count": 10,
   "id": "db761950-3d3b-4388-929f-e12eff2d35e6",
   "metadata": {},
   "outputs": [],
   "source": [
    "import networkx as nx\n",
    "import numpy as np\n",
    "\n",
    "G = nx.Graph()\n",
    "\n",
    "G.add_node(1,pos=(0,0))\n",
    "G.add_node(2,pos=(1,0))\n",
    "G.add_node(3,pos=(0,1))\n",
    "G.add_node(4,pos=(1,1))\n",
    "\n",
    "G.add_edge(1,2,weight = 5)\n",
    "G.add_edge(1,3,weight = 5)\n",
    "G.add_edge(2,4,weight = 2)\n",
    "G.add_edge(3,4,weight = 10)\n",
    "G.add_edge(2,3,weight = 2)\n",
    "\n",
    "adjacency = nx.to_numpy_array(G)\n",
    "edges = np.array(G.edges())"
   ]
  },
  {
   "cell_type": "code",
   "execution_count": 17,
   "id": "3a70d394-47c7-4523-b1d4-5e2a3c23bdd4",
   "metadata": {},
   "outputs": [
    {
     "data": {
      "text/plain": [
       "{(1, 2): Text(0.5, 0.0, '5'),\n",
       " (1, 3): Text(0.0, 0.5, '5'),\n",
       " (2, 4): Text(1.0, 0.5, '2'),\n",
       " (2, 3): Text(0.5, 0.5, '2'),\n",
       " (3, 4): Text(0.5, 1.0, '10')}"
      ]
     },
     "execution_count": 17,
     "metadata": {},
     "output_type": "execute_result"
    },
    {
     "data": {
      "image/png": "[encoded data removed]",
      "text/plain": [
       "<Figure size 432x288 with 1 Axes>"
      ]
     },
     "metadata": {},
     "output_type": "display_data"
    }
   ],
   "source": [
    "pos=nx.get_node_attributes(G,'pos')\n",
    "nx.draw(G,pos,with_labels=True,node_color='red',node_size=500)\n",
    "labels = nx.get_edge_attributes(G,'weight')\n",
    "nx.draw_networkx_edge_labels(G,pos,edge_labels=labels,font_size=30)"
   ]
  },
  {
   "cell_type": "markdown",
   "id": "c3385fcb-bad6-4c00-90c1-9d362cdf3315",
   "metadata": {},
   "source": [
    "We can find the shortest path using a classical algorithm (Dijkstra)"
   ]
  },
  {
   "cell_type": "code",
   "execution_count": 2,
   "id": "8e2de572-eea0-43c2-b8a0-fcc198afe9be",
   "metadata": {},
   "outputs": [
    {
     "data": {
      "text/plain": [
       "[1, 2, 4]"
      ]
     },
     "execution_count": 2,
     "metadata": {},
     "output_type": "execute_result"
    }
   ],
   "source": [
    "nx.dijkstra_path(G,1,4,weight=True)"
   ]
  },
  {
   "cell_type": "code",
   "execution_count": 18,
   "id": "96488a8c-769e-4df1-8251-c49fd7c3929f",
   "metadata": {},
   "outputs": [],
   "source": [
    "H = np.zeros((len(edges)+adjacency.shape[0],len(edges)+adjacency.shape[0]))\n",
    "source = 1\n",
    "target = 2\n",
    "\n",
    "alpha = 1\n",
    "alpha_s = np.sum(adjacency)/2\n",
    "\n",
    "for i in range(adjacency.shape[0],len(edges)+adjacency.shape[0]):\n",
    "    for j in range(i,len(edges)+adjacency.shape[0]):\n",
    "        edge1 = edges[i-adjacency.shape[0]]\n",
    "        edge2 = edges[j-adjacency.shape[0]]\n",
    "        \n",
    "        if edge1[0] == edge2[0] or edge1[0] == edge2[1] or\\\n",
    "        edge1[1]==edge2[1] or edge1[1]==edge2[0]:\n",
    "            if i == j:\n",
    "                H[i,j] += (2*alpha_s+adjacency[edge1[0]-1,edge1[1]-1]*alpha)\n",
    "            else:\n",
    "                H[i,j] += 2*alpha_s\n",
    "        else:\n",
    "            continue\n",
    "            \n",
    "for i in range(adjacency.shape[0]):\n",
    "    for j in range(adjacency.shape[0],len(edges)+adjacency.shape[0]):\n",
    "        edge1 = edges[j-adjacency.shape[0]]\n",
    "        \n",
    "        if edge1[0] == i+1 or edge1[1] == i+1:\n",
    "            if i != source-1 and i != target-1:\n",
    "                H[i,j] += -4*alpha_s\n",
    "            else:\n",
    "                H[i,j] += -2*alpha_s\n",
    "        else:\n",
    "            continue\n",
    "            \n",
    "for i in range(adjacency.shape[0]):\n",
    "    if i != source-1 and i != target-1:\n",
    "        H[i,i] += 4*alpha_s"
   ]
  },
  {
   "cell_type": "code",
   "execution_count": null,
   "id": "edb28200-b52e-4ab4-99fe-7c5c3c13a0bd",
   "metadata": {},
   "outputs": [],
   "source": [
    "off_set = 2*alpha_s\n",
    "# off_set = off_set/np.max(np.abs(H))\n",
    "max_adjacency = np.max(adjacency)\n",
    "max_h = np.max(np.abs(H))\n",
    "# H = H/np.max(np.abs(H))"
   ]
  },
  {
   "cell_type": "code",
   "execution_count": null,
   "id": "21235954-9c2e-464c-8799-5ede6d005a34",
   "metadata": {},
   "outputs": [],
   "source": [
    "H_dict = {}\n",
    "for i in range(H.shape[0]):\n",
    "    for j in range(i,H.shape[0]):\n",
    "        if H[i,j] == 0.0:\n",
    "            continue\n",
    "        H_dict.update({(i,j):H[i,j]})"
   ]
  },
  {
   "cell_type": "code",
   "execution_count": null,
   "id": "dba8d5e7-3529-4e7e-ba67-d44b87b66231",
   "metadata": {},
   "outputs": [],
   "source": [
    "from dwave.system import LeapHybridSampler\n",
    "\n",
    "result_dict = {}\n",
    "\n",
    "lim = 10.0\n",
    "for i in range(10): \n",
    "    sampler = LeapHybridSampler()\n",
    "    results = sampler.sample_qubo(H_dict,time_limit=lim)\n",
    "    res = []\n",
    "    ener = []\n",
    "    for rows in results.record:\n",
    "        res.append(rows[0])\n",
    "        ener.append(rows[1])\n",
    "\n",
    "    result_dict.update({i+1:{'path':np.array(res),'energy':np.array(ener)}})\n",
    "    \n"
   ]
  }
 ],
 "metadata": {
  "kernelspec": {
   "display_name": "Python 3 (ipykernel)",
   "language": "python",
   "name": "python3"
  },
  "language_info": {
   "codemirror_mode": {
    "name": "ipython",
    "version": 3
   },
   "file_extension": ".py",
   "mimetype": "text/x-python",
   "name": "python",
   "nbconvert_exporter": "python",
   "pygments_lexer": "ipython3",
   "version": "3.8.13"
  }
 },
 "nbformat": 4,
 "nbformat_minor": 5
}
